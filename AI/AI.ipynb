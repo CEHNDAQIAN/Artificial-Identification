{
 "cells": [
  {
   "cell_type": "code",
   "execution_count": 4,
   "metadata": {},
   "outputs": [
    {
     "name": "stdout",
     "output_type": "stream",
     "text": [
      "Processing file: C:/Users/13750/Desktop/candidate\\1.jpg\n",
      "Number of faces detected: 1\n",
      "Processing file: C:/Users/13750/Desktop/candidate\\2.jpg\n",
      "Number of faces detected: 1\n",
      "Processing file: C:/Users/13750/Desktop/candidate\\3.jpg\n",
      "Number of faces detected: 1\n",
      "Processing file: C:/Users/13750/Desktop/candidate\\4.jpg\n",
      "Number of faces detected: 1\n",
      "Processing file: C:/Users/13750/Desktop/candidate\\5.jpg\n",
      "Number of faces detected: 1\n",
      "Processing file: C:/Users/13750/Desktop/candidate\\陌生人.jpg\n",
      "Number of faces detected: 1\n"
     ]
    }
   ],
   "source": [
    "# -*- coding: UTF-8 -*-\n",
    "import os,dlib,glob,numpy\n",
    "from skimage import io#引入skimage模块可用\n",
    "\n",
    "# 1.人脸关键点检测器\n",
    "predictor_path = \"C:/Users/13750/Desktop/shape_predictor_68_face_landmarks.dat\"#是已经训练好的人脸关键点检测器。\n",
    "# 2.人脸识别模型\n",
    "face_rec_model_path = \"C:/Users/13750/Desktop/dlib_face_recognition_resnet_model_v1.dat\"#是训练好的ResNet人脸识别模型。\n",
    "#ResNet是何凯明在微软的时候提出的深度残差网络，获得了 ImageNet 2015 冠军，通过让网络对残差进行学习，在深度和精度上做到了比 CNN 更加强大。\n",
    "#http://dlib.net/files/。\n",
    "# 3.候选人脸文件夹\n",
    "faces_folder_path = \"C:/Users/13750/Desktop/candidate\"\n",
    "# 4.需识别的人脸\n",
    "img_path = \"C:/Users/13750/Desktop/OFD_full_DB_labelled/OFD_full_DB_labelled/0006/光照/I_0006_04.jpg\"\n",
    "\n",
    "# 1.加载正脸检测器\n",
    "detector = dlib.get_frontal_face_detector()\n",
    "# 2.加载人脸关键点检测器\n",
    "predictor = dlib.shape_predictor(predictor_path)\n",
    "# 3. 加载人脸识别模型\n",
    "facerec = dlib.face_recognition_model_v1(face_rec_model_path)\n",
    "\n",
    "win = dlib.image_window()\n",
    "\n",
    "# 候选人脸描述子list\n",
    "descriptors = []\n",
    "\n",
    "# 对文件夹下的每一个人脸进行:\n",
    "# 1.人脸检测\n",
    "# 2.关键点检测\n",
    "# 3.描述子提取\n",
    "for f in glob.glob(os.path.join(faces_folder_path, \"*.jpg\")):#返回candidate文件下所有jpg文件\n",
    "    print(\"Processing file: {}\".format(f))#Format是CString类的一个成员函数，它通过格式操作使任意类型的数据转换成一个字符串。\n",
    "#Format参数也是一个格式化字符串。\n",
    "    img = io.imread(f)#使用scikit-image包的io模块读取图像\n",
    "    #io.imread（fname，as_grey=True）函数，第一个参数为图片路径，第二个参数为as_grey, bool型值，默认为False\n",
    "    #生成dlib的图像窗口\n",
    "    win.clear_overlay()\n",
    "    win.set_image(img)\n",
    "    # 1.人脸检测\n",
    "    dets = detector(img, 1)\n",
    "    print(\"Number of faces detected: {}\".format(len(dets)))#Len():得到字符串的长度\n",
    "    for k, d in enumerate(dets):\n",
    "        #enumerate() 函数用于将一个可遍历的数据对象(如列表、元组或字符串)组合为一个索引序列，同时列出数据和数据下标，一般用在 for 循环当中。\n",
    "        # 2.关键点检测\n",
    "        shape = predictor(img, d)\n",
    "        # 画出人脸区域和和关键点\n",
    "        win.clear_overlay()\n",
    "        win.add_overlay(d)  \n",
    "        win.add_overlay(shape)\n",
    "        # 3.描述子提取，存储为128D向量(八个方向数据,每个方向含4x4个分量)？？？？\n",
    "        face_descriptor = facerec.compute_face_descriptor(img, shape)\n",
    "        # 转换为numpy array\n",
    "        #print(face_descriptor)\n",
    "        #print(len(face_descriptor))\n",
    "        v = numpy.array(face_descriptor)  \n",
    "        descriptors.append(v)#append按行合并列表#append() 方法用于在列表末尾添加新的对象。"
   ]
  },
  {
   "cell_type": "code",
   "execution_count": 10,
   "metadata": {},
   "outputs": [],
   "source": [
    "#type(face_descriptor)\n",
    "#print(descriptors)"
   ]
  },
  {
   "cell_type": "code",
   "execution_count": 5,
   "metadata": {},
   "outputs": [
    {
     "name": "stdout",
     "output_type": "stream",
     "text": [
      "\n",
      " The person is:  陌生人\n"
     ]
    }
   ],
   "source": [
    "# 对需识别人脸进行同样处理\n",
    "# 提取描述子\n",
    "img = io.imread(img_path)\n",
    "dets = detector(img, 1)\n",
    "dist = []\n",
    "for k, d in enumerate(dets):\n",
    "    shape = predictor(img, d)\n",
    "    face_descriptor = facerec.compute_face_descriptor(img, shape)\n",
    "    d_test = numpy.array(face_descriptor) \n",
    "# 计算欧式距离\n",
    "for i in descriptors:\n",
    "    dist_ = numpy.linalg.norm(i-d_test)#表示范数，范数是对向量（或者矩阵）的度量，是一个标量\n",
    "    dist.append(dist_)\n",
    "# 候选人名单\n",
    "candidate = ['1','2','3','4','5','陌生人']\n",
    "# 候选人和距离组成一个dict\n",
    "c_d = dict(zip(candidate,dist))\n",
    "cd_sorted = sorted(c_d.items(), key=lambda d:d[1])\n",
    "#sort 是应用在 list 上的方法，sorted 可以对所有可迭代的对象进行排序操作。\n",
    "#list 的 sort 方法返回的是对已经存在的列表进行操作，无返回值，而内建函数 sorted 方法返回的是一个新的 list，而不是在原来的基础上进行的操作。\n",
    "print (\"\\n The person is: \",cd_sorted[0][0])\n",
    "#输出（距离最小的）第一个人\n",
    "dlib.hit_enter_to_continue()\n",
    "#直到使用者输入enter键继续或暂停"
   ]
  },
  {
   "cell_type": "code",
   "execution_count": 8,
   "metadata": {},
   "outputs": [
    {
     "data": {
      "image/png": "[encoded data removed]",
      "text/plain": [
       "<Figure size 432x288 with 1 Axes>"
      ]
     },
     "metadata": {},
     "output_type": "display_data"
    },
    {
     "name": "stderr",
     "output_type": "stream",
     "text": [
      "D:\\anaconda\\lib\\site-packages\\ipykernel_launcher.py:14: DeprecationWarning: `imresize` is deprecated!\n",
      "`imresize` is deprecated in SciPy 1.0.0, and will be removed in 1.2.0.\n",
      "Use ``skimage.transform.resize`` instead.\n",
      "  \n"
     ]
    },
    {
     "data": {
      "image/png": "[encoded data removed]",
      "text/plain": [
       "<Figure size 432x288 with 1 Axes>"
      ]
     },
     "metadata": {},
     "output_type": "display_data"
    }
   ],
   "source": [
    "import matplotlib.pyplot as plt # plt 用于显示图片\n",
    "import matplotlib.image as mpimg # mpimg 用于读取图片\n",
    "import numpy as np\n",
    "\n",
    "lena = mpimg.imread('C:/Users/13750/Desktop/范数.png') # 读取和代码处于同一目录下的 lena.png\n",
    "# 此时 lena 就已经是一个 np.array 了，可以对它进行任意处理\n",
    "lena.shape #(512, 512, 3)\n",
    "\n",
    "plt.imshow(lena) # 显示图片\n",
    "plt.axis('off') # 不显示坐标轴\n",
    "plt.show()\n",
    "#对图像进行放缩\n",
    "from scipy import misc\n",
    "lena_new_sz = misc.imresize(lena,0.5) # 第二个参数如果是整数，则为百分比，如果是tuple，则为输出图像的尺寸\n",
    "plt.imshow(lena_new_sz)\n",
    "plt.axis('off')\n",
    "plt.show()"
   ]
  },
  {
   "cell_type": "markdown",
   "metadata": {},
   "source": [
    "注：以上代码摘录于博客，并进行了一些修改。 \n",
    "原码出处：《40行代码的人脸识别实践》作者：刘潇龙\n",
    "原文链接：https://cloud.tencent.com/developer/article/1004781"
   ]
  }
 ],
 "metadata": {
  "kernelspec": {
   "display_name": "Python 3",
   "language": "python",
   "name": "python3"
  },
  "language_info": {
   "codemirror_mode": {
    "name": "ipython",
    "version": 3
   },
   "file_extension": ".py",
   "mimetype": "text/x-python",
   "name": "python",
   "nbconvert_exporter": "python",
   "pygments_lexer": "ipython3",
   "version": "3.6.5"
  }
 },
 "nbformat": 4,
 "nbformat_minor": 2
}
